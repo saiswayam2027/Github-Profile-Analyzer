{
 "cells": [
  {
   "cell_type": "code",
   "execution_count": 2,
   "id": "9e966409",
   "metadata": {},
   "outputs": [
    {
     "name": "stderr",
     "output_type": "stream",
     "text": [
      "[NbConvertApp] Converting notebook utils.py.ipynb to script\n",
      "[NbConvertApp] Writing 527 bytes to utils.py.py\n",
      "[NbConvertApp] Converting notebook graph.ipynb to script\n",
      "[NbConvertApp] Writing 516 bytes to graph.py\n"
     ]
    }
   ],
   "source": [
    "!jupyter nbconvert --to script utils.py.ipynb\n",
    "!jupyter nbconvert --to script graph.ipynb\n"
   ]
  },
  {
   "cell_type": "code",
   "execution_count": 9,
   "id": "cab973a5",
   "metadata": {},
   "outputs": [],
   "source": [
    "import requests\n",
    "from collections import Counter\n",
    "from dotenv import load_dotenv\n",
    "load_dotenv()\n",
    "\n",
    "\n",
    "def get_user_repos(username):\n",
    "    url = f\"https://api.github.com/users/{username}/repos\"\n",
    "\n",
    "    #  REPLACE this with your real token from GitHub\n",
    "    import os\n",
    "    token = os.getenv(\"GITHUB_TOKEN\")\n",
    "\n",
    "\n",
    "    headers = {\n",
    "        \"Authorization\": f\"token {token}\",\n",
    "        \"Accept\": \"application/vnd.github.v3+json\"\n",
    "    }\n",
    "\n",
    "    try:\n",
    "        response = requests.get(url, headers=headers)\n",
    "        print(f\"Status Code: {response.status_code}\")\n",
    "        if response.status_code == 200:\n",
    "            return response.json()\n",
    "        elif response.status_code == 403:\n",
    "            print(\"Rate limit hit even with token.\")\n",
    "        elif response.status_code == 404:\n",
    "            print(\"User not found.\")\n",
    "        else:\n",
    "            print(\"Other error:\", response.text)\n",
    "        return None\n",
    "    except requests.exceptions.RequestException as e:\n",
    "        print(\"Network error:\", e)\n",
    "        return None\n",
    "\n",
    " \n"
   ]
  },
  {
   "cell_type": "code",
   "execution_count": null,
   "id": "991b6dbb",
   "metadata": {},
   "outputs": [],
   "source": []
  },
  {
   "cell_type": "code",
   "execution_count": null,
   "id": "d8055543",
   "metadata": {},
   "outputs": [],
   "source": []
  }
 ],
 "metadata": {
  "kernelspec": {
   "display_name": "Python 3 (ipykernel)",
   "language": "python",
   "name": "python3"
  },
  "language_info": {
   "codemirror_mode": {
    "name": "ipython",
    "version": 3
   },
   "file_extension": ".py",
   "mimetype": "text/x-python",
   "name": "python",
   "nbconvert_exporter": "python",
   "pygments_lexer": "ipython3",
   "version": "3.10.9"
  }
 },
 "nbformat": 4,
 "nbformat_minor": 5
}
