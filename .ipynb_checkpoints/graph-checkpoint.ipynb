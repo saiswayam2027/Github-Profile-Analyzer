{
 "cells": [
  {
   "cell_type": "code",
   "execution_count": 1,
   "id": "23be81dc",
   "metadata": {},
   "outputs": [
    {
     "name": "stderr",
     "output_type": "stream",
     "text": [
      "[NbConvertApp] Converting notebook utils.py.ipynb to script\n",
      "[NbConvertApp] Writing 527 bytes to utils.py.py\n",
      "[NbConvertApp] Converting notebook graph.ipynb to script\n",
      "[NbConvertApp] Writing 516 bytes to graph.py\n"
     ]
    }
   ],
   "source": [
    "!jupyter nbconvert --to script utils.py.ipynb\n",
    "!jupyter nbconvert --to script graph.ipynb\n"
   ]
  },
  {
   "cell_type": "code",
   "execution_count": null,
   "id": "05f38ffb",
   "metadata": {},
   "outputs": [],
   "source": [
    "import matplotlib.pyplot as plt\n",
    "\n",
    "def plot_language_chart(language_data, username):\n",
    "    languages = list(language_data.keys())\n",
    "    counts = list(language_data.values())\n",
    "\n",
    "    plt.figure(figsize=(8, 6))\n",
    "    plt.bar(languages, counts, color='skyblue')\n",
    "    plt.xlabel('Languages')\n",
    "    plt.ylabel('Repositories')\n",
    "    plt.title(f'Languages Used by {username}')\n",
    "    plt.xticks(rotation=45)\n",
    "    plt.tight_layout()\n",
    "    plt.savefig(f\"{username}_languages.png\")\n",
    "    plt.show()\n"
   ]
  }
 ],
 "metadata": {
  "kernelspec": {
   "display_name": "Python 3 (ipykernel)",
   "language": "python",
   "name": "python3"
  },
  "language_info": {
   "codemirror_mode": {
    "name": "ipython",
    "version": 3
   },
   "file_extension": ".py",
   "mimetype": "text/x-python",
   "name": "python",
   "nbconvert_exporter": "python",
   "pygments_lexer": "ipython3",
   "version": "3.10.9"
  }
 },
 "nbformat": 4,
 "nbformat_minor": 5
}
